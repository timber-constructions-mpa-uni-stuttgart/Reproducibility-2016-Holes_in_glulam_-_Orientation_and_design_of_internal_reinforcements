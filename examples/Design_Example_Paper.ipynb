{
 "cells": [
  {
   "cell_type": "code",
   "execution_count": 111,
   "metadata": {
    "collapsed": true
   },
   "outputs": [],
   "source": [
    "import numpy as np\n",
    "import sympy as sy"
   ]
  },
  {
   "cell_type": "markdown",
   "metadata": {},
   "source": [
    "A function to calculate the maximal axial force in the internal reinforcement is defined according to the equation (4) of the paper."
   ]
  },
  {
   "cell_type": "code",
   "execution_count": 112,
   "metadata": {
    "collapsed": true
   },
   "outputs": [],
   "source": [
    "def calc_Rn(F_V, F_M, Ft90, beta, d, w):\n",
    "    \"\"\"Calculate the axial force in the reinforcement\n",
    "\n",
    "    :F_V: portion of the force associated with the shear force\n",
    "    :F_M: portion of the force associated witht the moment \n",
    "    :Ft90: tensile vertical force acc. to the German Nationa Annex to EN 1995-1-1\n",
    "    :beta: inclination angle of the rod (in degrees). beta=0° --> vertical position\n",
    "    :d: diameter of the internal reinforcement\n",
    "    :w: width of the glulam beam\n",
    "    \n",
    "    :returns: maximal axial force of the reinforcement\n",
    "\n",
    "    \"\"\"\n",
    "    # Set coefficients\n",
    "    c1 = 1.2\n",
    "    c2 = 0.012\n",
    "    c3 = 0.36\n",
    "    # Calculate sinus and cosinus\n",
    "    cos_B = np.cos( np.radians(beta) )\n",
    "    sin_B = np.sin( np.radians(beta) )\n",
    "    # apply the equation\n",
    "    R_n = ( (F_V * c1 + F_M * c2 ) * sin_B * np.sqrt(d/w) + Ft90 * c3 * d/np.sqrt(w) ) / cos_B\n",
    "\n",
    "    return R_n"
   ]
  },
  {
   "cell_type": "markdown",
   "metadata": {},
   "source": [
    "The parameters of the problem are defined in the next cell"
   ]
  },
  {
   "cell_type": "code",
   "execution_count": 113,
   "metadata": {
    "collapsed": false
   },
   "outputs": [],
   "source": [
    "# Dimensions\n",
    "# Beam:\n",
    "# - width\n",
    "w = 120.\n",
    "# - heigth\n",
    "h = 450.\n",
    "\n",
    "# Hole:\n",
    "# - diameter of the hole\n",
    "hd = 135.\n",
    "# - distance from the left-most support to the left edge of the hole\n",
    "lA = 720.\n",
    "# - area of the cross-section\n",
    "A = w*h\n",
    "\n",
    "h_r = (h - hd)/2. + 0.15 * hd\n",
    "\n",
    "# Mechanical properties\n",
    "I = h**3 * w / 12.\n",
    "\n",
    "# Define symbolic variables\n",
    "x = sy.Symbol('x')\n",
    "y = sy.Symbol('y')\n",
    "\n",
    "# Load\n",
    "F = 126*2. * 1e3 # N\n",
    "# Shear force\n",
    "V = F/2.\n",
    "# Moment at position 'x' (starting from the left-most support)\n",
    "M = V * x"
   ]
  },
  {
   "cell_type": "code",
   "execution_count": 114,
   "metadata": {
    "collapsed": false
   },
   "outputs": [
    {
     "name": "stdout",
     "output_type": "stream",
     "text": [
      "M_max = 130 kN m\n",
      "V_max = 126 kN\n"
     ]
    }
   ],
   "source": [
    "# Maximal load (withouth hole)\n",
    "# - bending strength of the glulam (assumed GL32h)\n",
    "f_m = 32.\n",
    "# - maximal moment on the full cross-section\n",
    "M_max = f_m * I / (h*0.5)\n",
    "print('M_max = {m:1.0f} kN m'.format(m=M_max*1e-6))\n",
    "\n",
    "# - shear strength\n",
    "f_v = 3.5\n",
    "# - maximal shear force on the full cross-section\n",
    "V_max = f_v * A / 1.5\n",
    "print('V_max = {v:1.0f} kN'.format(v=V_max*1e-3))\n"
   ]
  },
  {
   "cell_type": "code",
   "execution_count": 115,
   "metadata": {
    "collapsed": false
   },
   "outputs": [
    {
     "name": "stdout",
     "output_type": "stream",
     "text": [
      "V_1 = 126.0 kN\n",
      "M_1 = 90.7 kN mm\n",
      "V_2 = 126.0 kN\n",
      "M_2 = 107.7 kN mm\n"
     ]
    }
   ],
   "source": [
    "# Section forces at both sides of the hole\n",
    "V_1 = V\n",
    "V_2 = V\n",
    "\n",
    "# - moment at the left side of the hole\n",
    "M_1 = M.subs(x, lA)\n",
    "# - moment at the right side of the hole\n",
    "M_2 = M.subs(x, lA+hd)\n",
    "\n",
    "print(\"V_1 = {v1:1.1f} kN\".format(v1=V_1*1e-3))\n",
    "print(\"M_1 = {m1:1.1f} kN mm\".format(m1=M_1*1e-6))\n",
    "\n",
    "print(\"V_2 = {v2:1.1f} kN\".format(v2=V_2*1e-3))\n",
    "print(\"M_2 = {m2:1.1f} kN mm\".format(m2=M_2*1e-6))"
   ]
  },
  {
   "cell_type": "markdown",
   "metadata": {},
   "source": [
    "Calculate the vertical tensile force $F_{t,90}$ according to equations (1), (2) and (3)"
   ]
  },
  {
   "cell_type": "code",
   "execution_count": 116,
   "metadata": {
    "collapsed": false
   },
   "outputs": [
    {
     "name": "stdout",
     "output_type": "stream",
     "text": [
      "F_t90_1 = 23.51 kN\n",
      "F_t90_2 = 24.28 kN\n"
     ]
    }
   ],
   "source": [
    "F_tV_1 = (V_1 * 0.7*hd)/(4. * h) * (3 - (0.7*hd**2)/(h**2))\n",
    "F_tM_1 = 0.008 * M_1 /h_r \n",
    "F_t90_1 = F_tV_1 + F_tM_1\n",
    "\n",
    "F_tV_2 = (V_2 * 0.7*hd)/(4. * h) * (3 - (0.7*hd**2)/(h**2))\n",
    "F_tM_2 = 0.008 * M_2 /h_r \n",
    "F_t90_2 = F_tV_2 + F_tM_2\n",
    "\n",
    "print(\"F_t90_1 = {f1:1.2f} kN\".format(f1=F_t90_1*1e-3))\n",
    "print(\"F_t90_2 = {f2:1.2f} kN\".format(f2=F_t90_2*1e-3))"
   ]
  },
  {
   "cell_type": "markdown",
   "metadata": {},
   "source": [
    "Calculate the components $F_{r,V}$ according to Eq. (5) and $F_{r,M}$ according to Eq. (6)"
   ]
  },
  {
   "cell_type": "code",
   "execution_count": 122,
   "metadata": {
    "collapsed": false
   },
   "outputs": [
    {
     "name": "stdout",
     "output_type": "stream",
     "text": [
      "F_rV_1 = 56.8 kN\n",
      "F_rM_1 = 289.1 kN\n",
      "F_rV_2 = 56.8 kN\n",
      "F_rM_2 = -343.3 kN\n",
      "--------------------\n",
      "F_r_1 = 35.8 kN\n",
      "F_r_2 = 33.8 kN\n"
     ]
    }
   ],
   "source": [
    "# reinf used\n",
    "d = 12. # mm\n",
    "beta = 45. # degree\n",
    "ld = 180. # mm\n",
    "\n",
    "y_0 = hd*0.5*0.7 - ld * np.cos(np.radians(beta))\n",
    "# Calculate F_rV\n",
    "shear_1 = V_1 / (2.*I) * (h**2/4. - y**2)\n",
    "F_rV_1 = sy.integrate(shear_1 * w, (y, -hd*0.5*0.7, -y_0 ))\n",
    "\n",
    "shear_2 = V_2 / (2.*I) * (h**2/4. - y**2)\n",
    "F_rV_2 = sy.integrate(shear_2 * w, (y, y_0, hd*0.5*0.7 ))\n",
    "\n",
    "# Calculate F_rM\n",
    "bending_1 = -M_1 * y / I\n",
    "F_rM_1 = sy.integrate(bending_1 * w, (y, -h/2., -hd*0.5*0.7))\n",
    "\n",
    "bending_2 = -M_2 * y / I\n",
    "F_rM_2 = sy.integrate(bending_2 * w, (y, hd*0.5*0.7, h/2.))\n",
    "\n",
    "print(\"F_rV_1 = {v1:1.1f} kN\".format(v1=F_rV_1*1e-3))\n",
    "print(\"F_rM_1 = {m1:1.1f} kN\".format(m1=F_rM_1*1e-3))\n",
    "\n",
    "print(\"F_rV_2 = {v2:1.1f} kN\".format(v2=F_rV_2*1e-3))\n",
    "print(\"F_rM_2 = {m2:1.1f} kN\".format(m2=F_rM_2*1e-3))\n",
    "\n",
    "# Calculate the maximal axial force in each reinforcement using the function\n",
    "# defined at the beginning of this notebook\n",
    "F_r_1 = calc_Rn(F_V=F_rV_1, F_M=F_rM_1, Ft90=F_t90_1, d=d, w=w, beta=beta)\n",
    "F_r_2 = calc_Rn(F_V=F_rV_2, F_M=F_rM_2, Ft90=F_t90_2, d=d, w=w, beta=beta)\n",
    "\n",
    "print('--------------------')\n",
    "print(\"F_r_1 = {f1:1.1f} kN\".format(f1=F_r_1*1e-3))\n",
    "print(\"F_r_2 = {f2:1.1f} kN\".format(f2=F_r_2*1e-3))\n"
   ]
  },
  {
   "cell_type": "markdown",
   "metadata": {},
   "source": [
    "Verify the shear stresses at the bonding surface of the reinforcement"
   ]
  },
  {
   "cell_type": "code",
   "execution_count": 118,
   "metadata": {
    "collapsed": false
   },
   "outputs": [
    {
     "name": "stdout",
     "output_type": "stream",
     "text": [
      "fact_1 = 4.99/4.00 = 1.25\n",
      "fact_2 = 4.70/4.00 = 1.17\n"
     ]
    }
   ],
   "source": [
    "# Shear stresses at bonding surface\n",
    "f_k1 = 4.0\n",
    "Ar = np.pi * d**2 / 4.\n",
    "peri_r = np.pi * d * ld\n",
    "\n",
    "# maxumal shear stress in the bounding surface in each reinforcement\n",
    "tau_r_1 = F_r_1 / peri_r\n",
    "tau_r_2 = F_r_2 / peri_r\n",
    "\n",
    "# usage factors\n",
    "fact_1 = tau_r_1 / f_k1\n",
    "fact_2 = tau_r_2 / f_k1\n",
    "\n",
    "print('fact_1 = {t:1.2f}/{f:1.2f} = {fac:1.2f}'.format(t=tau_r_1, f=f_k1, fac=fact_1))\n",
    "print('fact_2 = {t:1.2f}/{f:1.2f} = {fac:1.2f}'.format(t=tau_r_2, f=f_k1, fac=fact_2))"
   ]
  },
  {
   "cell_type": "markdown",
   "metadata": {},
   "source": [
    "Verify the yielding stress of the reinforcements under the calculated maximal axial force"
   ]
  },
  {
   "cell_type": "code",
   "execution_count": 119,
   "metadata": {
    "collapsed": false
   },
   "outputs": [
    {
     "name": "stdout",
     "output_type": "stream",
     "text": [
      "fact_1 = 299.27/500.00 = 0.60\n",
      "fact_2 = 281.83/500.00 = 0.56\n"
     ]
    }
   ],
   "source": [
    "# yielding stress\n",
    "f_y = 500.\n",
    "\n",
    "# maximal axial stress in each reinforcement\n",
    "s_1 = F_r_1 / Ar\n",
    "s_2 = F_r_2 / Ar\n",
    "\n",
    "# usage factors\n",
    "fact_1 = s_1 / f_y\n",
    "fact_2 = s_2 / f_y\n",
    "\n",
    "print('fact_1 = {t:1.2f}/{f:1.2f} = {fac:1.2f}'.format(t=s_1, f=f_y, fac=fact_1))\n",
    "print('fact_2 = {t:1.2f}/{f:1.2f} = {fac:1.2f}'.format(t=s_2, f=f_y, fac=fact_2))"
   ]
  }
 ],
 "metadata": {
  "anaconda-cloud": {},
  "hide_input": false,
  "kernelspec": {
   "display_name": "Python [default]",
   "language": "python",
   "name": "python3"
  },
  "language_info": {
   "codemirror_mode": {
    "name": "ipython",
    "version": 3
   },
   "file_extension": ".py",
   "mimetype": "text/x-python",
   "name": "python",
   "nbconvert_exporter": "python",
   "pygments_lexer": "ipython3",
   "version": "3.4.5"
  }
 },
 "nbformat": 4,
 "nbformat_minor": 0
}
